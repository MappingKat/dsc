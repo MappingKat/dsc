{
 "cells": [
  {
   "cell_type": "markdown",
   "metadata": {},
   "source": [
    "# Project: Using NASDAQ data\n",
    "\n",
    "This project uses data from https://data.nasdaq.com/ (formerly Quandl API). The API key is stored in an .env file. "
   ]
  },
  {
   "cell_type": "code",
   "execution_count": 10,
   "metadata": {},
   "outputs": [],
   "source": [
    "# Import the relevant modules\n",
    "import requests\n",
    "import collections\n",
    "import os\n",
    "import json\n",
    "\n",
    "from dotenv import load_dotenv  # if missing this module, simply run `pip install python-dotenv`\n",
    "\n",
    "# get api key from your .env file\n",
    "load_dotenv()\n",
    "API_KEY = os.getenv('NASDAQ_API_KEY')"
   ]
  },
  {
   "cell_type": "markdown",
   "metadata": {},
   "source": [
    "Note: API's can change a bit with each version, for this exercise it is reccomended to use the nasdaq api at `https://data.nasdaq.com/api/v3/`. This is the same api as what used to be quandl so `https://www.quandl.com/api/v3/` should work too.\n",
    "\n",
    "Hint: We are looking for the `AFX_X` data on the `datasets/FSE/` dataset."
   ]
  },
  {
   "cell_type": "markdown",
   "metadata": {},
   "source": [
    "<h3>Example</h3>"
   ]
  },
  {
   "cell_type": "code",
   "execution_count": 11,
   "metadata": {},
   "outputs": [],
   "source": [
    "# Now, call the Nasdaq API and pull out a small sample of the data (only one day) to get a glimpse\n",
    "# into the JSON structure that will be returned\n",
    "dataset_code = \"WIKI/AP\"\n",
    "start_date = \"2023-12-15\"\n",
    "end_date = \"2023-12-15\"\n",
    "\n",
    "\n",
    "# Replace \"YOUR_API_KEY\" with your actual Nasdaq Data Link API key\n",
    "url = f\"https://data.nasdaq.com/api/v3/datasets/{dataset_code}?start_date={start_date}&end_date={end_date}&api_key={API_KEY}\"\n",
    "\n",
    "response = requests.get(url)\n",
    "response.raise_for_status()  # Raise an error if the request fails\n",
    "\n",
    "data = response.json()"
   ]
  },
  {
   "cell_type": "markdown",
   "metadata": {},
   "source": [
    "<p>Inspect JSON structure</p>"
   ]
  },
  {
   "cell_type": "code",
   "execution_count": 12,
   "metadata": {},
   "outputs": [
    {
     "name": "stdout",
     "output_type": "stream",
     "text": [
      "{\n",
      "    \"dataset\": {\n",
      "        \"collapse\": null,\n",
      "        \"column_index\": null,\n",
      "        \"column_names\": [\n",
      "            \"Date\",\n",
      "            \"Open\",\n",
      "            \"High\",\n",
      "            \"Low\",\n",
      "            \"Close\",\n",
      "            \"Volume\",\n",
      "            \"Ex-Dividend\",\n",
      "            \"Split Ratio\",\n",
      "            \"Adj. Open\",\n",
      "            \"Adj. High\",\n",
      "            \"Adj. Low\",\n",
      "            \"Adj. Close\",\n",
      "            \"Adj. Volume\"\n",
      "        ],\n",
      "        \"data\": [],\n",
      "        \"database_code\": \"WIKI\",\n",
      "        \"database_id\": 4922,\n",
      "        \"dataset_code\": \"AP\",\n",
      "        \"description\": \"<p>End of day open, high, low, close and volume, dividends and splits, and split/dividend adjusted open, high, low close and volume for Ampco-Pittsburgh Corporation (AP). Ex-Dividend is non-zero on ex-dividend dates. Split Ratio is 1 on non-split dates. Adjusted prices are calculated per CRSP (<a href=\\\"http://www.crsp.com/products/documentation/crsp-calculations\\\" rel=\\\"nofollow\\\" target=\\\"blank\\\">www.crsp.com/products/documentation/crsp-calculations</a>)</p>\\n\\n<p>This data is in the public domain. You may copy, distribute, disseminate or include the data in other products for commercial and/or noncommercial purposes.</p>\\n\\n<p>This data is part of Quandl's Wiki initiative to get financial data permanently into the public domain. Quandl relies on users like you to flag errors and provide data where data is wrong or missing. Get involved: <a href=\\\"mailto:connect@quandl.com\\\" rel=\\\"nofollow\\\" target=\\\"blank\\\">connect@quandl.com</a>\\n</p>\\n\",\n",
      "        \"end_date\": \"2018-03-27\",\n",
      "        \"frequency\": \"daily\",\n",
      "        \"id\": 10985420,\n",
      "        \"limit\": null,\n",
      "        \"name\": \"Ampco-Pittsburgh Corp. (AP) Prices, Dividends, Splits and Trading Volume\",\n",
      "        \"newest_available_date\": \"2018-03-27\",\n",
      "        \"oldest_available_date\": \"1984-07-19\",\n",
      "        \"order\": null,\n",
      "        \"premium\": false,\n",
      "        \"refreshed_at\": \"2018-03-27T21:45:54.461Z\",\n",
      "        \"start_date\": \"2023-12-15\",\n",
      "        \"transform\": null,\n",
      "        \"type\": \"Time Series\"\n",
      "    }\n",
      "}\n"
     ]
    }
   ],
   "source": [
    "# Inspect the JSON structure of the object you created, and take note of how nested it is,\n",
    "# as well as the overall structure\n",
    "\n",
    "print(json.dumps(\n",
    "    data,\n",
    "    sort_keys=True,\n",
    "    indent=4,\n",
    "    separators=(',', ': ')\n",
    "))"
   ]
  },
  {
   "cell_type": "markdown",
   "metadata": {},
   "source": [
    "These are your tasks for this mini project:\n",
    "\n",
    "1. Collect data from the Franfurt Stock Exchange, for the ticker AFX_X, for the whole year 2017 (keep in mind that the date format is YYYY-MM-DD).\n",
    "2. Convert the returned JSON object into a Python dictionary.\n",
    "3. Calculate what the highest and lowest opening prices were for the stock in this period.\n",
    "4. What was the largest change in any one day (based on High and Low price)?\n",
    "5. What was the largest change between any two days (based on Closing Price)?\n",
    "6. What was the average daily trading volume during this year?\n",
    "7. (Optional) What was the median trading volume during this year. (Note: you may need to implement your own function for calculating the median.)"
   ]
  },
  {
   "cell_type": "markdown",
   "metadata": {},
   "source": [
    "## 1. Collect data from the Franfurt Stock Exchange, for the ticker AFX_X, for the whole year 2017 (keep in mind that the date format is YYYY-MM-DD)"
   ]
  },
  {
   "cell_type": "code",
   "execution_count": 13,
   "metadata": {},
   "outputs": [],
   "source": [
    "start_date = \"2017-01-01\"\n",
    "end_date = \"2017-12-31\"\n",
    "dataset_code = \"FSE/AFX_X\"\n",
    "url = f\"https://data.nasdaq.com/api/v3/datasets/{dataset_code}?start_date={start_date}&end_date={end_date}&api_key={API_KEY}\"\n",
    "\n",
    "response = requests.get(url)\n",
    "response.raise_for_status()  # Raise an error if the request fails"
   ]
  },
  {
   "cell_type": "markdown",
   "metadata": {},
   "source": [
    "## 2. Convert the returned JSON object into a Python dictionary."
   ]
  },
  {
   "cell_type": "code",
   "execution_count": 26,
   "metadata": {},
   "outputs": [
    {
     "name": "stdout",
     "output_type": "stream",
     "text": [
      "<class 'dict'>\n"
     ]
    }
   ],
   "source": [
    "data = response.json()\n",
    "#print(json.dumps(data, sort_keys=True, indent=4, separators=(',', ': ')))\n",
    "print(type(data))"
   ]
  },
  {
   "cell_type": "markdown",
   "metadata": {},
   "source": [
    "## 3. Calculate what the highest and lowest opening prices were for the stock in this period."
   ]
  },
  {
   "cell_type": "code",
   "execution_count": 15,
   "metadata": {},
   "outputs": [
    {
     "name": "stdout",
     "output_type": "stream",
     "text": [
      "The highest opening price was $53.11 and the lowest opening price was $34.0 in 2017.\n"
     ]
    }
   ],
   "source": [
    "\n",
    "open_prices = [daily[1] for daily in data['dataset']['data'] if daily[1] != None]\n",
    "max_open = str(max(open_prices))\n",
    "min_open = str(min(open_prices))\n",
    "print('The highest opening price was $' + max_open + ' and the lowest opening price was $' + min_open + ' in 2017.')"
   ]
  },
  {
   "cell_type": "markdown",
   "metadata": {},
   "source": [
    "## 4. What was the largest change in any one day (based on High and Low price)?"
   ]
  },
  {
   "cell_type": "code",
   "execution_count": 16,
   "metadata": {},
   "outputs": [
    {
     "name": "stdout",
     "output_type": "stream",
     "text": [
      "The largest change in any one day in 2017 was 2.81\n"
     ]
    }
   ],
   "source": [
    "#Find the index of high and low prices\n",
    "high = data['dataset']['column_names'].index('High')\n",
    "low = data['dataset']['column_names'].index('Low')\n",
    "#Calculate change\n",
    "change = [day[high]-day[low] for day in data['dataset']['data']]\n",
    "print('The largest change in any one day in 2017 was {:.2f}'.format(max(change)))"
   ]
  },
  {
   "cell_type": "markdown",
   "metadata": {},
   "source": [
    "## 5. What was the largest change between any two days (based on Closing Price)?"
   ]
  },
  {
   "cell_type": "code",
   "execution_count": 18,
   "metadata": {},
   "outputs": [
    {
     "name": "stdout",
     "output_type": "stream",
     "text": [
      "The largest change between any two days in 2017 was 2.56\n"
     ]
    }
   ],
   "source": [
    "#Find the index of closing price\n",
    "close = data['dataset']['column_names'].index('Close')\n",
    "#Grab closing price\n",
    "closing = [day[close] for day in data['dataset']['data']]\n",
    "#Calculate change in price between day and the day before loop\n",
    "change_two_days = [abs(closing[index]-closing[index-1]) for index, value in enumerate(closing) if index > 0]\n",
    "print('The largest change between any two days in 2017 was {:.2f}'.format(max(change_two_days)))"
   ]
  },
  {
   "cell_type": "markdown",
   "metadata": {},
   "source": [
    "## 6. What was the average daily trading volume during this year?"
   ]
  },
  {
   "cell_type": "code",
   "execution_count": 19,
   "metadata": {},
   "outputs": [
    {
     "name": "stdout",
     "output_type": "stream",
     "text": [
      "The average daily trading volumne in 2017 was 89124.34\n"
     ]
    }
   ],
   "source": [
    "#Find the index of volume\n",
    "traded_volume = data['dataset']['column_names'].index('Traded Volume')\n",
    "#Extract trading volume\n",
    "volume = [day[traded_volume] for day in data['dataset']['data']]\n",
    "#Calculate average total volume divided by total number\n",
    "average_volume = sum(volume)/len(volume)\n",
    "print('The average daily trading volumne in 2017 was {:.2f}'.format(average_volume))"
   ]
  },
  {
   "cell_type": "markdown",
   "metadata": {},
   "source": [
    "## 7. What was the median trading volume during this year. (Note: you may need to implement your own function for calculating the median.)"
   ]
  },
  {
   "cell_type": "code",
   "execution_count": 20,
   "metadata": {},
   "outputs": [
    {
     "name": "stdout",
     "output_type": "stream",
     "text": [
      "The median trading volume in 2017 was 76286.00\n"
     ]
    }
   ],
   "source": [
    "#Sort volume ascending\n",
    "volume = sorted(volume)\n",
    "#Find median through analog calculations\n",
    "if len(volume) % 2 == 1:\n",
    "    median_volume = volume[len(volume)//2]\n",
    "else:\n",
    "    median_volume = (volume[len(volume)//2] + volume[len(volume)//2-1]) / 2\n",
    "print('The median trading volume in 2017 was {:.2f}'.format(median_volume))"
   ]
  }
 ],
 "metadata": {
  "interpreter": {
   "hash": "7635eb1b9d0fe97add78a7368b6b431c09bb8ad5c42e437d64abdd99821c31ae"
  },
  "kernelspec": {
   "display_name": "Python 3 (ipykernel)",
   "language": "python",
   "name": "python3"
  },
  "language_info": {
   "codemirror_mode": {
    "name": "ipython",
    "version": 3
   },
   "file_extension": ".py",
   "mimetype": "text/x-python",
   "name": "python",
   "nbconvert_exporter": "python",
   "pygments_lexer": "ipython3",
   "version": "3.11.4"
  }
 },
 "nbformat": 4,
 "nbformat_minor": 4
}
